{
  "nbformat": 4,
  "nbformat_minor": 0,
  "metadata": {
    "colab": {
      "provenance": []
    },
    "kernelspec": {
      "name": "python3",
      "display_name": "Python 3"
    },
    "language_info": {
      "name": "python"
    }
  },
  "cells": [
    {
      "cell_type": "code",
      "execution_count": 1,
      "metadata": {
        "colab": {
          "base_uri": "https://localhost:8080/"
        },
        "id": "lVJP3x-yF5x0",
        "outputId": "b20f1a0d-419c-4c1f-fc19-0218d2fa5aa8"
      },
      "outputs": [
        {
          "output_type": "stream",
          "name": "stdout",
          "text": [
            "\r0% [Working]\r            \rGet:1 https://cloud.r-project.org/bin/linux/ubuntu bionic-cran40/ InRelease [3,626 B]\n",
            "\r0% [Waiting for headers] [Connecting to security.ubuntu.com (185.125.190.39)] [\r0% [Waiting for headers] [Connecting to security.ubuntu.com (185.125.190.39)] [\r0% [1 InRelease gpgv 3,626 B] [Waiting for headers] [Connecting to security.ubu\r                                                                               \rIgn:2 https://developer.download.nvidia.com/compute/machine-learning/repos/ubuntu1804/x86_64  InRelease\n",
            "\r0% [1 InRelease gpgv 3,626 B] [Waiting for headers] [Connecting to security.ubu\r                                                                               \rGet:3 https://developer.download.nvidia.com/compute/cuda/repos/ubuntu1804/x86_64  InRelease [1,581 B]\n",
            "\r0% [1 InRelease gpgv 3,626 B] [Waiting for headers] [Connecting to security.ubu\r0% [1 InRelease gpgv 3,626 B] [Waiting for headers] [Connecting to security.ubu\r                                                                               \rHit:4 http://archive.ubuntu.com/ubuntu bionic InRelease\n",
            "Hit:5 https://developer.download.nvidia.com/compute/machine-learning/repos/ubuntu1804/x86_64  Release\n",
            "Hit:6 http://ppa.launchpad.net/c2d4u.team/c2d4u4.0+/ubuntu bionic InRelease\n",
            "Get:7 http://security.ubuntu.com/ubuntu bionic-security InRelease [88.7 kB]\n",
            "Get:8 http://archive.ubuntu.com/ubuntu bionic-updates InRelease [88.7 kB]\n",
            "Hit:9 http://ppa.launchpad.net/cran/libgit2/ubuntu bionic InRelease\n",
            "Hit:10 http://ppa.launchpad.net/deadsnakes/ppa/ubuntu bionic InRelease\n",
            "Get:11 http://archive.ubuntu.com/ubuntu bionic-backports InRelease [83.3 kB]\n",
            "Get:12 http://ppa.launchpad.net/graphics-drivers/ppa/ubuntu bionic InRelease [21.3 kB]\n",
            "Get:13 https://developer.download.nvidia.com/compute/cuda/repos/ubuntu1804/x86_64  Packages [1,038 kB]\n",
            "Get:15 http://archive.ubuntu.com/ubuntu bionic-updates/main amd64 Packages [3,497 kB]\n",
            "Get:16 http://security.ubuntu.com/ubuntu bionic-security/universe amd64 Packages [1,563 kB]\n",
            "Get:17 http://archive.ubuntu.com/ubuntu bionic-updates/universe amd64 Packages [2,338 kB]\n",
            "Get:18 http://archive.ubuntu.com/ubuntu bionic-updates/restricted amd64 Packages [1,303 kB]\n",
            "Get:19 http://security.ubuntu.com/ubuntu bionic-security/main amd64 Packages [3,071 kB]\n",
            "Get:20 http://security.ubuntu.com/ubuntu bionic-security/restricted amd64 Packages [1,262 kB]\n",
            "Get:21 http://ppa.launchpad.net/graphics-drivers/ppa/ubuntu bionic/main amd64 Packages [38.5 kB]\n",
            "Fetched 14.4 MB in 9s (1,657 kB/s)\n",
            "Reading package lists... Done\n"
          ]
        }
      ],
      "source": [
        "import os\n",
        "# Find the latest version of spark 3.2  from http://www.apache.org/dist/spark/ and enter as the spark version\n",
        "# For example:\n",
        "spark_version = 'spark-3.2.2'\n",
        "# spark_version = 'spark-3.'\n",
        "\n",
        "os.environ['SPARK_VERSION']=spark_version\n",
        "\n",
        "# Install Spark and Java\n",
        "!apt-get update\n",
        "!apt-get install openjdk-8-jdk-headless -qq > /dev/null\n",
        "!wget -q https://archive.apache.org/dist/spark/spark-3.0.0/spark-3.0.0-bin-hadoop3.2.tgz\n",
        "!tar xf spark-3.0.0-bin-hadoop3.2.tgz\n",
        "!pip install -q findspark\n",
        "\n",
        "# Set Environment Variables\n",
        "os.environ[\"JAVA_HOME\"] = \"/usr/lib/jvm/java-8-openjdk-amd64\"\n",
        "os.environ[\"SPARK_HOME\"] = \"/content/spark-3.0.0-bin-hadoop3.2\"\n",
        "\n",
        "# Start a SparkSession\n",
        "import findspark\n",
        "findspark.init()"
      ]
    },
    {
      "cell_type": "code",
      "source": [
        "#postgres connect\n",
        "!wget https://jdbc.postgresql.org/download/postgresql-42.2.9.jar"
      ],
      "metadata": {
        "colab": {
          "base_uri": "https://localhost:8080/"
        },
        "id": "oEJlkIYoGHEo",
        "outputId": "3172a436-cd11-46cf-ce9b-d80062f6d194"
      },
      "execution_count": 2,
      "outputs": [
        {
          "output_type": "stream",
          "name": "stdout",
          "text": [
            "--2022-11-30 01:16:38--  https://jdbc.postgresql.org/download/postgresql-42.2.9.jar\n",
            "Resolving jdbc.postgresql.org (jdbc.postgresql.org)... 72.32.157.228, 2001:4800:3e1:1::228\n",
            "Connecting to jdbc.postgresql.org (jdbc.postgresql.org)|72.32.157.228|:443... connected.\n",
            "HTTP request sent, awaiting response... 200 OK\n",
            "Length: 914037 (893K) [application/java-archive]\n",
            "Saving to: ‘postgresql-42.2.9.jar’\n",
            "\n",
            "postgresql-42.2.9.j 100%[===================>] 892.61K  --.-KB/s    in 0.08s   \n",
            "\n",
            "2022-11-30 01:16:38 (10.4 MB/s) - ‘postgresql-42.2.9.jar’ saved [914037/914037]\n",
            "\n"
          ]
        }
      ]
    },
    {
      "cell_type": "code",
      "source": [
        "#spark session\n",
        "from pyspark.sql import SparkSession\n",
        "spark = SparkSession.builder.appName(\"CloudETL\").config(\"spark.driver.extraClassPath\",\"/content/postgresql-42.2.9.jar\").getOrCreate()"
      ],
      "metadata": {
        "id": "B9yheS__G33C"
      },
      "execution_count": 3,
      "outputs": []
    },
    {
      "cell_type": "code",
      "source": [
        "#read data in\n",
        "from pyspark import SparkFiles\n",
        "url = \"https://s3.amazonaws.com/amazon-reviews-pds/tsv/amazon_reviews_us_Luggage_v1_00.tsv.gz\"\n",
        "spark.sparkContext.addFile(url)\n",
        "df = spark.read.csv(SparkFiles.get(\"amazon_reviews_us_Luggage_v1_00.tsv.gz\"), sep=\"\\t\", header=True)\n",
        "\n",
        "df.show()"
      ],
      "metadata": {
        "colab": {
          "base_uri": "https://localhost:8080/"
        },
        "id": "U8X-NZ85G7hr",
        "outputId": "eee07963-30c2-4b39-b4c4-50d3551740d5"
      },
      "execution_count": 4,
      "outputs": [
        {
          "output_type": "stream",
          "name": "stdout",
          "text": [
            "+-----------+-----------+--------------+----------+--------------+--------------------+----------------+-----------+-------------+-----------+----+-----------------+--------------------+--------------------+-----------+\n",
            "|marketplace|customer_id|     review_id|product_id|product_parent|       product_title|product_category|star_rating|helpful_votes|total_votes|vine|verified_purchase|     review_headline|         review_body|review_date|\n",
            "+-----------+-----------+--------------+----------+--------------+--------------------+----------------+-----------+-------------+-----------+----+-----------------+--------------------+--------------------+-----------+\n",
            "|         US|   40884699| R9CO86UUJCAW5|B00VGTN02Y|     786681372|Teenage Mutant Ni...|         Luggage|          3|            0|          0|   N|                Y|my review of this...|my review of this...| 2015-08-31|\n",
            "|         US|   23208852|R3PR8X6QGVJ8B1|B005KIWL0E|     618251799|Kenneth Cole Reac...|         Luggage|          5|            0|          0|   N|                Y|          Five Stars|       Perfect size.| 2015-08-31|\n",
            "|         US|   17100246|R39BO2819ABUPF|B007UNSHJ6|     810480328|American Touriste...|         Luggage|          4|            0|          0|   N|                Y|            so good.|    So far, so good.| 2015-08-31|\n",
            "|         US|   13533670|R3ADL7V6EGGEEP|B00WHFNXB4|      20765193|15.5 Inch Purple ...|         Luggage|          4|            0|          0|   N|                Y|          Four Stars|seems nicely made...| 2015-08-31|\n",
            "|         US|   38541771|R1OXYPBPLVRMI5|B000M5NBYU|     812890709|Port & Company Zi...|         Luggage|          5|            0|          0|   N|                Y|           Dance Bag|Great bag for all...| 2015-08-31|\n",
            "|         US|   12686499|R1WYM8Z5ATQ98O|B00ACBJ89G|     624906499|J World New York ...|         Luggage|          3|            0|          0|   N|                Y|        TOO SMALL!!!|it´s nice BUT it´...| 2015-08-31|\n",
            "|         US|   27767206|R3LCIANTN1H9EC|B001H4BQ1A|     385044506|Voltage Valet Clo...|         Luggage|          4|            1|          1|   N|                Y|          Four Stars|It does the job b...| 2015-08-31|\n",
            "|         US|   46630606|R3U2M23N1P0KQ6|B00ESG6NDK|      51297652|Pro Packing Cubes...|         Luggage|          5|            0|          0|   N|                Y|          Five Stars|          Just fine.| 2015-08-31|\n",
            "|         US|   41622754|R29MB6N7HB6NZI|B00M14SAXC|     832113872|Girl's Dance Duff...|         Luggage|          1|            2|          2|   N|                Y|We were exited to...|We were exited to...| 2015-08-31|\n",
            "|         US|   15296380| RGEQ6DGRG7DQG|B012PC5QAY|     490793867|Disney Inside Out...|         Luggage|          5|            0|          0|   N|                Y|               cute!|Very nice and we'...| 2015-08-31|\n",
            "|         US|   21206415|R38HNH0BSS2KFE|B00VWKWWMG|     356411837|World Traveler 13...|         Luggage|          1|            1|          1|   N|                Y|            One Star|Brought it on vac...| 2015-08-31|\n",
            "|         US|   34554097|R2CATRM9CH59LY|B00N2U14UK|     326835930|Sherpani Trevia C...|         Luggage|          5|            4|          4|   N|                Y|A great bag for t...|I purchased this ...| 2015-08-31|\n",
            "|         US|   42252567|R18DMKNDPJ1BSN|B00K4F45CA|     954517686|Rockland Luggage ...|         Luggage|          5|            0|          1|   N|                Y|             Perfect|Love this light w...| 2015-08-31|\n",
            "|         US|    3532342| RZRSHBWXO3XUQ|B00U57FFA8|      98867907|Allant 16\" Padded...|         Luggage|          5|            0|          0|   N|                Y|it's durable and ...|Purchased this ba...| 2015-08-31|\n",
            "|         US|    7791634|R1BMTNSYCZY1NI|B00ROSRFQ8|     648371973|Polare Manly Real...|         Luggage|          3|            1|          1|   N|                Y|Strong well-made ...|I've had this bag...| 2015-08-31|\n",
            "|         US|    9911099| RPE2S0HZQ9EFP|B003ZV71BM|     406795103|American Flyer Lu...|         Luggage|          5|            0|          0|   N|                Y|          Five Stars|Love love love my...| 2015-08-31|\n",
            "|         US|   46124918|R2OOWJSFPDDA03|B00NJYB2JM|     255715129|Victoriatourist V...|         Luggage|          3|            0|          1|   N|                Y|         Three Stars|Smaller than expe...| 2015-08-31|\n",
            "|         US|     200537|R3EED64ZPXGZ92|B00LD0A4N4|     244117760|EcoCity Vintage C...|         Luggage|          3|            0|          0|   N|                Y|         Three Stars|Within the first ...| 2015-08-31|\n",
            "|         US|    1403856|R1BI8NF6YRH5HD|B00N5GVF6O|     626808161|Bolang Water Resi...|         Luggage|          5|            0|          0|   N|                Y|     Laptop backpack|Nice nice sturdy ...| 2015-08-31|\n",
            "|         US|    8201781| RUD7SDRQTAVMC|B00C75KZPQ|     176437087|Travelon Cosmetic...|         Luggage|          5|            0|          0|   N|                Y|           Fabulous!|Fabulous! Can use...| 2015-08-31|\n",
            "+-----------+-----------+--------------+----------+--------------+--------------------+----------------+-----------+-------------+-----------+----+-----------------+--------------------+--------------------+-----------+\n",
            "only showing top 20 rows\n",
            "\n"
          ]
        }
      ]
    },
    {
      "cell_type": "code",
      "source": [
        "df.count()"
      ],
      "metadata": {
        "colab": {
          "base_uri": "https://localhost:8080/"
        },
        "id": "hENaxkxVHBNA",
        "outputId": "3bc9feeb-7c0d-477d-cb01-5eff0336e81e"
      },
      "execution_count": 5,
      "outputs": [
        {
          "output_type": "execute_result",
          "data": {
            "text/plain": [
              "348657"
            ]
          },
          "metadata": {},
          "execution_count": 5
        }
      ]
    },
    {
      "cell_type": "code",
      "source": [
        "#remove duplicates\n",
        "df = df.dropna(how='any')\n",
        "df = df.dropDuplicates()\n",
        "df.count()"
      ],
      "metadata": {
        "colab": {
          "base_uri": "https://localhost:8080/"
        },
        "id": "JDLoTRSRI-bC",
        "outputId": "1dfe0853-1433-4cf2-84f7-1c627073adee"
      },
      "execution_count": 6,
      "outputs": [
        {
          "output_type": "execute_result",
          "data": {
            "text/plain": [
              "348613"
            ]
          },
          "metadata": {},
          "execution_count": 6
        }
      ]
    },
    {
      "cell_type": "code",
      "source": [
        "df.dtypes"
      ],
      "metadata": {
        "colab": {
          "base_uri": "https://localhost:8080/"
        },
        "id": "_10-PXUMJB5P",
        "outputId": "56860794-9690-45e1-f47c-a9e6f79e2cfe"
      },
      "execution_count": 7,
      "outputs": [
        {
          "output_type": "execute_result",
          "data": {
            "text/plain": [
              "[('marketplace', 'string'),\n",
              " ('customer_id', 'string'),\n",
              " ('review_id', 'string'),\n",
              " ('product_id', 'string'),\n",
              " ('product_parent', 'string'),\n",
              " ('product_title', 'string'),\n",
              " ('product_category', 'string'),\n",
              " ('star_rating', 'string'),\n",
              " ('helpful_votes', 'string'),\n",
              " ('total_votes', 'string'),\n",
              " ('vine', 'string'),\n",
              " ('verified_purchase', 'string'),\n",
              " ('review_headline', 'string'),\n",
              " ('review_body', 'string'),\n",
              " ('review_date', 'string')]"
            ]
          },
          "metadata": {},
          "execution_count": 7
        }
      ]
    },
    {
      "cell_type": "code",
      "source": [
        "#conversion string to int\n",
        "from pyspark.sql.types import IntegerType\n",
        "df = df.withColumn(\"customer_id\", df[\"customer_id\"].cast(IntegerType()))\n",
        "df = df.withColumn(\"product_parent\", df[\"product_parent\"].cast(IntegerType()))\n",
        "df = df.withColumn(\"star_rating\", df[\"star_rating\"].cast(IntegerType()))\n",
        "df = df.withColumn(\"helpful_votes\", df[\"helpful_votes\"].cast(IntegerType()))\n",
        "df = df.withColumn(\"total_votes\", df[\"total_votes\"].cast(IntegerType()))\n",
        "df.dtypes"
      ],
      "metadata": {
        "colab": {
          "base_uri": "https://localhost:8080/"
        },
        "id": "56239PxbJEr6",
        "outputId": "c3e1a048-c1da-4958-e108-29973ae2975f"
      },
      "execution_count": 8,
      "outputs": [
        {
          "output_type": "execute_result",
          "data": {
            "text/plain": [
              "[('marketplace', 'string'),\n",
              " ('customer_id', 'int'),\n",
              " ('review_id', 'string'),\n",
              " ('product_id', 'string'),\n",
              " ('product_parent', 'int'),\n",
              " ('product_title', 'string'),\n",
              " ('product_category', 'string'),\n",
              " ('star_rating', 'int'),\n",
              " ('helpful_votes', 'int'),\n",
              " ('total_votes', 'int'),\n",
              " ('vine', 'string'),\n",
              " ('verified_purchase', 'string'),\n",
              " ('review_headline', 'string'),\n",
              " ('review_body', 'string'),\n",
              " ('review_date', 'string')]"
            ]
          },
          "metadata": {},
          "execution_count": 8
        }
      ]
    },
    {
      "cell_type": "code",
      "source": [
        "#df vine\n",
        "df_vine = df.select([ \"review_id\"\n",
        "                          , \"star_rating\"\n",
        "                          , \"helpful_votes\"\n",
        "                          , \"total_votes\"\n",
        "                          , \"vine\"\n",
        "                          ]).dropDuplicates([\"review_id\"])\n",
        "df_vine.show()"
      ],
      "metadata": {
        "colab": {
          "base_uri": "https://localhost:8080/"
        },
        "id": "V4D9gwMuJMqB",
        "outputId": "cdb23170-020c-4410-ed14-b42af157b0c4"
      },
      "execution_count": 9,
      "outputs": [
        {
          "output_type": "stream",
          "name": "stdout",
          "text": [
            "+--------------+-----------+-------------+-----------+----+\n",
            "|     review_id|star_rating|helpful_votes|total_votes|vine|\n",
            "+--------------+-----------+-------------+-----------+----+\n",
            "|R106DW9WYK7M66|          5|            0|          1|   N|\n",
            "|R10FHG21AGZ6U8|          5|            0|          0|   N|\n",
            "|R10HRFSB6G50NA|          4|            4|          4|   N|\n",
            "|R10HSOKR22BKJS|          5|            0|          3|   N|\n",
            "|R10MLWE255UJPD|          1|            0|          0|   N|\n",
            "|R10NTD447C4WJX|          3|            0|          0|   N|\n",
            "|R10Q1WVRHD1C56|          4|            0|          0|   N|\n",
            "|R10QU651K92G38|          1|            0|          0|   N|\n",
            "|R10RNAP34JZ362|          5|            0|          0|   N|\n",
            "|R10SR63YRN4C5Z|          5|            0|          0|   N|\n",
            "|R10XIYAEA1LWSM|          2|            1|          3|   N|\n",
            "|R10XN95VW4NNRA|          5|            2|          2|   N|\n",
            "|R10YOCBJK1EIHQ|          5|            0|          0|   N|\n",
            "|R114QWZ9S6I50V|          4|            0|          0|   N|\n",
            "|R115N4GNOKBLSK|          1|            0|          0|   N|\n",
            "|R115Y3HI6N2QW5|          5|            0|          0|   N|\n",
            "|R11663569SN33Z|          5|            0|          0|   N|\n",
            "|R11B1TGFS9UE15|          5|            0|          0|   N|\n",
            "|R11F9HXWCB473D|          5|            0|          0|   N|\n",
            "|R11HU2U4RSSOPA|          4|           11|         11|   N|\n",
            "+--------------+-----------+-------------+-----------+----+\n",
            "only showing top 20 rows\n",
            "\n"
          ]
        }
      ]
    },
    {
      "cell_type": "code",
      "source": [
        "df_vine.dtypes"
      ],
      "metadata": {
        "colab": {
          "base_uri": "https://localhost:8080/"
        },
        "id": "gb56yaw-JqEC",
        "outputId": "b4907067-2353-4f0c-ce08-33837ef4da3f"
      },
      "execution_count": 10,
      "outputs": [
        {
          "output_type": "execute_result",
          "data": {
            "text/plain": [
              "[('review_id', 'string'),\n",
              " ('star_rating', 'int'),\n",
              " ('helpful_votes', 'int'),\n",
              " ('total_votes', 'int'),\n",
              " ('vine', 'string')]"
            ]
          },
          "metadata": {},
          "execution_count": 10
        }
      ]
    },
    {
      "cell_type": "code",
      "source": [
        "df_vine.count()"
      ],
      "metadata": {
        "colab": {
          "base_uri": "https://localhost:8080/"
        },
        "id": "5o5H8NGkJtLs",
        "outputId": "c88d458e-1383-451a-fcbe-021db043f8f0"
      },
      "execution_count": 11,
      "outputs": [
        {
          "output_type": "execute_result",
          "data": {
            "text/plain": [
              "348613"
            ]
          },
          "metadata": {},
          "execution_count": 11
        }
      ]
    },
    {
      "cell_type": "code",
      "source": [
        "#df paid-vine\n",
        "paid_vine = df_vine.filter('vine = \"Y\"')\n",
        "paid_vine.show()"
      ],
      "metadata": {
        "colab": {
          "base_uri": "https://localhost:8080/"
        },
        "id": "otRbh2d1J_Ys",
        "outputId": "235f1f95-fec1-4e66-c5a2-5ebfa31891a2"
      },
      "execution_count": 12,
      "outputs": [
        {
          "output_type": "stream",
          "name": "stdout",
          "text": [
            "+--------------+-----------+-------------+-----------+----+\n",
            "|     review_id|star_rating|helpful_votes|total_votes|vine|\n",
            "+--------------+-----------+-------------+-----------+----+\n",
            "|R3HJAGVD491IFV|          5|          105|        105|   Y|\n",
            "|R2DTP0OYTGGL3W|          4|            1|          2|   Y|\n",
            "|R3UG3J2JYSYUDK|          5|            0|          0|   Y|\n",
            "| RBUGDTIU9IREG|          5|            1|          3|   Y|\n",
            "|R15LE4JNH0NSRX|          3|            3|          6|   Y|\n",
            "|R2Y0EL2WGKEVSH|          5|            0|          0|   Y|\n",
            "|R14568FBGOPC5R|          4|            0|          0|   Y|\n",
            "| RFUKDYASLHD3F|          4|            1|          1|   Y|\n",
            "| RWEF5ZC4G39VW|          5|            1|          1|   Y|\n",
            "| RZ0JEVQ0RZMC4|          5|            3|          3|   Y|\n",
            "|R13RAWMKH88CFZ|          4|            0|          0|   Y|\n",
            "|R1TFHLHKIOWIN1|          4|            2|          3|   Y|\n",
            "|R1UF27O45BX658|          4|            7|         10|   Y|\n",
            "|R378M4MLN7OKKZ|          5|            0|          0|   Y|\n",
            "| RSYJSHG4WA43B|          4|            1|          1|   Y|\n",
            "|R1CKJ8KXXYLD8C|          4|            8|         10|   Y|\n",
            "|R2F1AXJCVK2BQX|          5|            3|          4|   Y|\n",
            "|R2ND845OGJGQYG|          5|            2|          2|   Y|\n",
            "|R2QBNO9I2GDBIT|          3|            0|          0|   Y|\n",
            "|R3IMTHNDZWHT2N|          4|            2|          2|   Y|\n",
            "+--------------+-----------+-------------+-----------+----+\n",
            "only showing top 20 rows\n",
            "\n"
          ]
        }
      ]
    },
    {
      "cell_type": "code",
      "source": [
        "paid_vine.count()"
      ],
      "metadata": {
        "colab": {
          "base_uri": "https://localhost:8080/"
        },
        "id": "SU0HIDw3KXro",
        "outputId": "a72adde7-9d02-43d9-c418-350792787406"
      },
      "execution_count": 14,
      "outputs": [
        {
          "output_type": "execute_result",
          "data": {
            "text/plain": [
              "904"
            ]
          },
          "metadata": {},
          "execution_count": 14
        }
      ]
    },
    {
      "cell_type": "code",
      "source": [
        "#df not paid-vine\n",
        "unpaid_vine = df_vine.filter('vine = \"N\"')\n",
        "unpaid_vine.show()"
      ],
      "metadata": {
        "colab": {
          "base_uri": "https://localhost:8080/"
        },
        "id": "w_k_OgSEKaIH",
        "outputId": "337a9191-32f5-45c0-ff33-c14833f7dc76"
      },
      "execution_count": 13,
      "outputs": [
        {
          "output_type": "stream",
          "name": "stdout",
          "text": [
            "+--------------+-----------+-------------+-----------+----+\n",
            "|     review_id|star_rating|helpful_votes|total_votes|vine|\n",
            "+--------------+-----------+-------------+-----------+----+\n",
            "|R106DW9WYK7M66|          5|            0|          1|   N|\n",
            "|R10FHG21AGZ6U8|          5|            0|          0|   N|\n",
            "|R10HRFSB6G50NA|          4|            4|          4|   N|\n",
            "|R10HSOKR22BKJS|          5|            0|          3|   N|\n",
            "|R10MLWE255UJPD|          1|            0|          0|   N|\n",
            "|R10NTD447C4WJX|          3|            0|          0|   N|\n",
            "|R10Q1WVRHD1C56|          4|            0|          0|   N|\n",
            "|R10QU651K92G38|          1|            0|          0|   N|\n",
            "|R10RNAP34JZ362|          5|            0|          0|   N|\n",
            "|R10SR63YRN4C5Z|          5|            0|          0|   N|\n",
            "|R10XIYAEA1LWSM|          2|            1|          3|   N|\n",
            "|R10XN95VW4NNRA|          5|            2|          2|   N|\n",
            "|R10YOCBJK1EIHQ|          5|            0|          0|   N|\n",
            "|R114QWZ9S6I50V|          4|            0|          0|   N|\n",
            "|R115N4GNOKBLSK|          1|            0|          0|   N|\n",
            "|R115Y3HI6N2QW5|          5|            0|          0|   N|\n",
            "|R11663569SN33Z|          5|            0|          0|   N|\n",
            "|R11B1TGFS9UE15|          5|            0|          0|   N|\n",
            "|R11F9HXWCB473D|          5|            0|          0|   N|\n",
            "|R11HU2U4RSSOPA|          4|           11|         11|   N|\n",
            "+--------------+-----------+-------------+-----------+----+\n",
            "only showing top 20 rows\n",
            "\n"
          ]
        }
      ]
    },
    {
      "cell_type": "code",
      "source": [
        "unpaid_vine.count()"
      ],
      "metadata": {
        "colab": {
          "base_uri": "https://localhost:8080/"
        },
        "id": "wla9waDdKk8E",
        "outputId": "cd1c5a9e-a3a7-4364-aa92-e2a00513c5fd"
      },
      "execution_count": 15,
      "outputs": [
        {
          "output_type": "execute_result",
          "data": {
            "text/plain": [
              "347709"
            ]
          },
          "metadata": {},
          "execution_count": 15
        }
      ]
    },
    {
      "cell_type": "code",
      "source": [
        "#vine paid with rating = 5\n",
        "paid_vine_rating_5 = paid_vine.filter(paid_vine[\"star_rating\"] == 5)\n",
        "paid_vine_rating_5.count()"
      ],
      "metadata": {
        "colab": {
          "base_uri": "https://localhost:8080/"
        },
        "id": "zr91lgZDK46H",
        "outputId": "802b7b0d-3c2a-45c5-ab6e-46aca89957f8"
      },
      "execution_count": 16,
      "outputs": [
        {
          "output_type": "execute_result",
          "data": {
            "text/plain": [
              "472"
            ]
          },
          "metadata": {},
          "execution_count": 16
        }
      ]
    },
    {
      "cell_type": "code",
      "source": [
        "#vine unpaid with rating = 5\n",
        "unpaid_vine_rating_5 = unpaid_vine.filter(unpaid_vine[\"star_rating\"] == 5)\n",
        "unpaid_vine_rating_5.count()"
      ],
      "metadata": {
        "colab": {
          "base_uri": "https://localhost:8080/"
        },
        "id": "4VA2BRU7LGqC",
        "outputId": "8660c823-e95a-4a11-a5d1-f19515108c3e"
      },
      "execution_count": 17,
      "outputs": [
        {
          "output_type": "execute_result",
          "data": {
            "text/plain": [
              "216003"
            ]
          },
          "metadata": {},
          "execution_count": 17
        }
      ]
    },
    {
      "cell_type": "code",
      "source": [
        "#avg\n",
        "df_avg = df_vine.groupBy(\"vine\").avg()\n",
        "df_avg.select(\"vine\", \"avg(star_rating)\", \"avg(helpful_votes)\", \"avg(total_votes)\").show()"
      ],
      "metadata": {
        "colab": {
          "base_uri": "https://localhost:8080/"
        },
        "id": "US5yoVrsLVrl",
        "outputId": "80cf6809-101c-4523-fedc-d464e2457c74"
      },
      "execution_count": 18,
      "outputs": [
        {
          "output_type": "stream",
          "name": "stdout",
          "text": [
            "+----+------------------+------------------+------------------+\n",
            "|vine|  avg(star_rating)|avg(helpful_votes)|  avg(total_votes)|\n",
            "+----+------------------+------------------+------------------+\n",
            "|   Y|4.3584070796460175|2.3584070796460175| 2.870575221238938|\n",
            "|   N|  4.22309172325134|2.0626299578095475|2.4305007923292177|\n",
            "+----+------------------+------------------+------------------+\n",
            "\n"
          ]
        }
      ]
    },
    {
      "cell_type": "code",
      "source": [
        "#count\n",
        "df_vine.createOrReplaceTempView(\"COUNT_VINE\")\n",
        "spark.sql(\"SELECT vine, COUNT(vine) FROM COUNT_VINE GROUP BY vine\").show()"
      ],
      "metadata": {
        "colab": {
          "base_uri": "https://localhost:8080/"
        },
        "id": "btma-SFILcC5",
        "outputId": "713d40f5-8d08-4efd-899c-0f7451cc71a8"
      },
      "execution_count": 20,
      "outputs": [
        {
          "output_type": "stream",
          "name": "stdout",
          "text": [
            "+----+-----------+\n",
            "|vine|count(vine)|\n",
            "+----+-----------+\n",
            "|   Y|        904|\n",
            "|   N|     347709|\n",
            "+----+-----------+\n",
            "\n"
          ]
        }
      ]
    },
    {
      "cell_type": "code",
      "source": [
        "#count paid vs unpaid\n",
        "spark.sql(\"SELECT vine, COUNT(vine) FROM COUNT_VINE WHERE star_rating = 5 GROUP BY vine\").show()"
      ],
      "metadata": {
        "id": "u-HyYpwFLf4D"
      },
      "execution_count": null,
      "outputs": []
    },
    {
      "cell_type": "markdown",
      "source": [
        "Paid vine reviews are a lot lower than unpaid vine reviews.  This indicates reviewers are willing to put in effort to review the product without incentive.  This indicates the program is working since people review without incentives. For paid and unpaid vines, the average star rating was high (greater than 4 stars).  The ratings compared to votes indicate that this program might not be doing as well as indicated since votes are very low despite having high ratings.\n",
        "\n",
        "\n"
      ],
      "metadata": {
        "id": "fWHlK-bjLm5f"
      }
    }
  ]
}